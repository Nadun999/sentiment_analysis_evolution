{
 "cells": [
  {
   "cell_type": "code",
   "execution_count": null,
   "metadata": {},
   "outputs": [],
   "source": [
    "# Importing necessary libraries\n",
    "import pandas as pd\n",
    "import numpy as np\n",
    "from sklearn.model_selection import train_test_split\n",
    "from sklearn.feature_extraction.text import TfidfVectorizer\n",
    "from sklearn.svm import SVC\n",
    "from sklearn.metrics import accuracy_score, classification_report\n",
    "import json"
   ]
  },
  {
   "cell_type": "code",
   "execution_count": null,
   "metadata": {},
   "outputs": [],
   "source": [
    "# Constants for preprocessing\n",
    "csv_file = \"pre_processed_reviews_svm.csv\"\n",
    "json_file = open('yelp_dataset/yelp_academic_dataset_review.json', 'r', encoding='utf-8')\n",
    "\n",
    "# Step 1: Preprocessing JSON data and saving to CSV\n",
    "def pre_process_json():\n",
    "    object_count = 0\n",
    "    for line in json_file:\n",
    "        try:\n",
    "            if object_count == 10000:\n",
    "                break\n",
    "\n",
    "            # Converting each JSON object into the valid JSON format\n",
    "            data = json.loads(line)\n",
    "\n",
    "            # Data Transformation\n",
    "            stars = int(data['stars'])\n",
    "            useful = int(data['useful'])\n",
    "            funny = int(data['funny'])\n",
    "            cool = int(data['cool'])\n",
    "            text = str(data['text'])\n",
    "\n",
    "            # Feature extraction\n",
    "            neutral = funny + cool\n",
    "\n",
    "            if useful == 0 or funny == 0 or cool == 0:\n",
    "                continue\n",
    "            else:\n",
    "                sentiment_list = [useful, neutral]\n",
    "                sentiment = sentiment_list.index(max(sentiment_list))\n",
    "                if stars >= 3 and sentiment == 0:\n",
    "                    reaction = 'satisfied considerable comment'\n",
    "                elif stars >= 3 and sentiment == 1:\n",
    "                    reaction = 'satisfied neutral comment'\n",
    "                elif stars < 3 and sentiment == 0:\n",
    "                    reaction = 'unsatisfied considerable comment'\n",
    "                elif stars < 3 and sentiment == 1:\n",
    "                    reaction = 'unsatisfied neutral comment'\n",
    "\n",
    "            data = {'text': [text], 'Sentiment': [reaction]}\n",
    "            df = pd.DataFrame(data)\n",
    "\n",
    "            # Append the data to the CSV file\n",
    "            if object_count == 0:\n",
    "                df.to_csv(csv_file, index=False)\n",
    "            else:\n",
    "                df.to_csv(csv_file, mode='a', header=False, index=False)\n",
    "\n",
    "            object_count += 1\n",
    "\n",
    "        except json.JSONDecodeError as e:\n",
    "            print(f\"Error decoding JSON: {e}\")\n",
    "            continue\n",
    "\n",
    "# Call the preprocessing function\n",
    "pre_process_json()\n",
    "json_file.close()\n",
    "\n",
    "# Load the processed data to verify\n",
    "processed_data = pd.read_csv(csv_file)\n",
    "print(processed_data.head())\n"
   ]
  },
  {
   "cell_type": "code",
   "execution_count": null,
   "metadata": {},
   "outputs": [],
   "source": [
    "train= pd.read_csv(csv_file)\n",
    "train.head(5)"
   ]
  },
  {
   "cell_type": "code",
   "execution_count": null,
   "metadata": {},
   "outputs": [],
   "source": [
    "new_df = train[['text', 'Sentiment']]"
   ]
  }
 ],
 "metadata": {
  "language_info": {
   "name": "python"
  }
 },
 "nbformat": 4,
 "nbformat_minor": 2
}
