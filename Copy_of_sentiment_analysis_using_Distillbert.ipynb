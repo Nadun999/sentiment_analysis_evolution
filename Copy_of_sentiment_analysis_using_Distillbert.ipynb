{
  "nbformat": 4,
  "nbformat_minor": 0,
  "metadata": {
    "colab": {
      "provenance": [],
      "gpuType": "T4"
    },
    "kernelspec": {
      "name": "python3",
      "display_name": "Python 3"
    },
    "language_info": {
      "name": "python"
    },
    "accelerator": "GPU"
  },
  "cells": [
    {
      "cell_type": "code",
      "source": [
        "from google.colab import drive\n",
        "\n",
        "# Mount Google Drive\n",
        "drive.mount('/content/drive')"
      ],
      "metadata": {
        "colab": {
          "base_uri": "https://localhost:8080/"
        },
        "id": "x9J9qyfeI7vd",
        "outputId": "83431f79-ee11-43a1-ba17-bf866f09941d"
      },
      "execution_count": null,
      "outputs": [
        {
          "output_type": "stream",
          "name": "stdout",
          "text": [
            "Mounted at /content/drive\n"
          ]
        }
      ]
    },
    {
      "cell_type": "code",
      "execution_count": null,
      "metadata": {
        "id": "DTafymLSI7GK"
      },
      "outputs": [],
      "source": [
        "# Importing necessary libraries\n",
        "import pandas as pd\n",
        "import numpy as np\n",
        "from sklearn.model_selection import train_test_split\n",
        "from sklearn.svm import SVC\n",
        "from sklearn.metrics import accuracy_score, classification_report\n",
        "import json\n",
        "import torch\n",
        "from sklearn.model_selection import train_test_split\n",
        "from transformers import DistilBertTokenizer, DistilBertForSequenceClassification, AdamW, get_scheduler\n",
        "from torch.utils.data import DataLoader"
      ]
    },
    {
      "cell_type": "markdown",
      "source": [
        " Preprocessing Yelp JSON data"
      ],
      "metadata": {
        "id": "MF6PTrfCSKLM"
      }
    },
    {
      "cell_type": "code",
      "execution_count": null,
      "metadata": {
        "colab": {
          "base_uri": "https://localhost:8080/"
        },
        "id": "zOzYxoFOI7GM",
        "outputId": "0c28fe7c-5c46-497d-ea24-62a989d19ca4"
      },
      "outputs": [
        {
          "output_type": "stream",
          "name": "stdout",
          "text": [
            "                                                text  \\\n",
            "0  I am a long term frequent customer of this est...   \n",
            "1  HOLY SMOKES!\\n\\nactual pumpkin pie mixed in wi...   \n",
            "2  I thoroughly enjoyed the show.  Chill way to s...   \n",
            "3  On a scale of one to things that are awesome, ...   \n",
            "4  I've only had the cannolis here but they are a...   \n",
            "\n",
            "                        Sentiment  \n",
            "0     unsatisfied neutral comment  \n",
            "1       satisfied neutral comment  \n",
            "2       satisfied neutral comment  \n",
            "3  satisfied considerable comment  \n",
            "4       satisfied neutral comment  \n"
          ]
        }
      ],
      "source": [
        "# Constants for preprocessing\n",
        "json_file = open('/content/drive/MyDrive/yelp_academic_dataset_review.json', 'r', encoding='utf-8')\n",
        "csv_file = \"/content/drive/MyDrive/pre_processed_reviews.csv\"\n",
        "\n",
        "# Step 1: Preprocessing JSON data and saving to CSV\n",
        "def pre_process_json():\n",
        "    object_count = 0\n",
        "    for line in json_file:\n",
        "        try:\n",
        "            if object_count == 10000:\n",
        "                break\n",
        "\n",
        "            # Converting each JSON object into the valid JSON format\n",
        "            data = json.loads(line)\n",
        "\n",
        "            # Data Transformation\n",
        "            stars = int(data['stars'])\n",
        "            useful = int(data['useful'])\n",
        "            funny = int(data['funny'])\n",
        "            cool = int(data['cool'])\n",
        "            text = str(data['text'])\n",
        "\n",
        "            # Feature extraction\n",
        "            neutral = funny + cool\n",
        "\n",
        "            if useful == 0 or funny == 0 or cool == 0:\n",
        "                continue\n",
        "            else:\n",
        "                sentiment_list = [useful, neutral]\n",
        "                sentiment = sentiment_list.index(max(sentiment_list))\n",
        "                if stars >= 3 and sentiment == 0:\n",
        "                    reaction = 'satisfied considerable comment'\n",
        "                elif stars >= 3 and sentiment == 1:\n",
        "                    reaction = 'satisfied neutral comment'\n",
        "                elif stars < 3 and sentiment == 0:\n",
        "                    reaction = 'unsatisfied considerable comment'\n",
        "                elif stars < 3 and sentiment == 1:\n",
        "                    reaction = 'unsatisfied neutral comment'\n",
        "\n",
        "            data = {'text': [text], 'Sentiment': [reaction]}\n",
        "            df = pd.DataFrame(data)\n",
        "\n",
        "            # Append the data to the CSV file\n",
        "            if object_count == 0:\n",
        "                df.to_csv(csv_file, index=False)\n",
        "            else:\n",
        "                df.to_csv(csv_file, mode='a', header=False, index=False)\n",
        "\n",
        "            object_count += 1\n",
        "\n",
        "        except json.JSONDecodeError as e:\n",
        "            print(f\"Error decoding JSON: {e}\")\n",
        "            continue\n",
        "\n",
        "# Call the preprocessing function\n",
        "pre_process_json()\n",
        "json_file.close()\n",
        "\n",
        "# Load the processed data to verify\n",
        "processed_data = pd.read_csv(csv_file)\n",
        "print(processed_data.head())\n"
      ]
    },
    {
      "cell_type": "markdown",
      "source": [
        "Map sentiment labels to integers"
      ],
      "metadata": {
        "id": "1Vnd2BzCSH_3"
      }
    },
    {
      "cell_type": "code",
      "source": [
        "sentiment_mapping = {\n",
        "    \"satisfied considerable comment\": 0,\n",
        "    \"satisfied neutral comment\": 1,\n",
        "    \"unsatisfied considerable comment\": 2,\n",
        "    \"unsatisfied neutral comment\": 3\n",
        "}\n",
        "processed_data['label'] = processed_data['Sentiment'].map(sentiment_mapping)"
      ],
      "metadata": {
        "id": "7pyZQnBWQxyu"
      },
      "execution_count": null,
      "outputs": []
    },
    {
      "cell_type": "code",
      "source": [
        "label_counts = processed_data['label'].value_counts()\n",
        "\n",
        "# Map back to sentiment names for clarity\n",
        "sentiment_names = {v: k for k, v in sentiment_mapping.items()}\n",
        "label_counts.index = label_counts.index.map(sentiment_names)\n",
        "\n",
        "# Print the balance\n",
        "print(\"Sentiment Balance:\")\n",
        "print(label_counts)"
      ],
      "metadata": {
        "colab": {
          "base_uri": "https://localhost:8080/"
        },
        "id": "nGxHQC73dVjY",
        "outputId": "c5caf9e6-25f9-4b45-d8d8-727a90d04d18"
      },
      "execution_count": null,
      "outputs": [
        {
          "output_type": "stream",
          "name": "stdout",
          "text": [
            "Sentiment Balance:\n",
            "label\n",
            "satisfied neutral comment           5291\n",
            "satisfied considerable comment      2909\n",
            "unsatisfied considerable comment     921\n",
            "unsatisfied neutral comment          879\n",
            "Name: count, dtype: int64\n"
          ]
        }
      ]
    },
    {
      "cell_type": "code",
      "source": [
        "from sklearn.utils import resample\n",
        "\n",
        "# Separate the dataset into majority and minority classes\n",
        "df_majority_1 = processed_data[processed_data['label'] == 0]\n",
        "df_majority_2 = processed_data[processed_data['label'] == 1]\n",
        "df_minority_1 = processed_data[processed_data['label'] == 2]\n",
        "df_minority_2 = processed_data[processed_data['label'] == 3]\n",
        "\n",
        "# Oversample the minority classes\n",
        "df_minority_1_oversampled = resample(df_minority_1,\n",
        "                                     replace=True,      # Sample with replacement\n",
        "                                     n_samples=2909,    # Match the second majority class count\n",
        "                                     random_state=42)   # Reproducible results\n",
        "\n",
        "df_minority_2_oversampled = resample(df_minority_2,\n",
        "                                     replace=True,\n",
        "                                     n_samples=2909,\n",
        "                                     random_state=42)\n",
        "\n",
        "# Combine majority and oversampled minority classes\n",
        "processed_data_balanced = pd.concat([df_majority_1, df_majority_2, df_minority_1_oversampled, df_minority_2_oversampled])\n",
        "\n",
        "# Shuffle the dataset\n",
        "processed_data = processed_data_balanced.sample(frac=1, random_state=42).reset_index(drop=True)\n",
        "\n",
        "# Check the new balance\n",
        "print(\"Balanced Sentiment Counts:\")\n",
        "print(processed_data['label'].value_counts())"
      ],
      "metadata": {
        "colab": {
          "base_uri": "https://localhost:8080/"
        },
        "id": "uhgg-n5_dyyG",
        "outputId": "930bb1f7-5a1f-41ee-c311-9d62cc4eb276"
      },
      "execution_count": null,
      "outputs": [
        {
          "output_type": "stream",
          "name": "stdout",
          "text": [
            "Balanced Sentiment Counts:\n",
            "label\n",
            "1    5291\n",
            "0    2909\n",
            "3    2909\n",
            "2    2909\n",
            "Name: count, dtype: int64\n"
          ]
        }
      ]
    },
    {
      "cell_type": "markdown",
      "source": [
        "Split into train and validation sets"
      ],
      "metadata": {
        "id": "4g5T8ygPSTQ7"
      }
    },
    {
      "cell_type": "code",
      "source": [
        "train_texts, temp_texts, train_labels, temp_labels = train_test_split(\n",
        "    processed_data['text'], processed_data['label'], test_size=0.3, random_state=42, stratify=processed_data['label']\n",
        ")"
      ],
      "metadata": {
        "id": "mMryXx3lQ1GF"
      },
      "execution_count": null,
      "outputs": []
    },
    {
      "cell_type": "code",
      "source": [
        "val_texts, test_texts, val_labels, test_labels = train_test_split(\n",
        "    temp_texts, temp_labels, test_size=0.5, random_state=42, stratify=temp_labels\n",
        ")"
      ],
      "metadata": {
        "id": "HgJREptYS1--"
      },
      "execution_count": null,
      "outputs": []
    },
    {
      "cell_type": "markdown",
      "source": [
        "Tokenize using DeBERTa tokenizer"
      ],
      "metadata": {
        "id": "kEsQxDwGSDS3"
      }
    },
    {
      "cell_type": "code",
      "source": [
        "tokenizer = DistilBertTokenizer.from_pretrained(\"distilbert-base-uncased\")\n",
        "train_encodings = tokenizer(list(train_texts), truncation=True, padding=True, max_length=128)\n",
        "val_encodings = tokenizer(list(val_texts), truncation=True, padding=True, max_length=128)\n",
        "test_encodings = tokenizer(list(test_texts), truncation=True, padding=True, max_length=128)\n"
      ],
      "metadata": {
        "id": "STae72o6Q1dy"
      },
      "execution_count": null,
      "outputs": []
    },
    {
      "cell_type": "markdown",
      "source": [
        "Prepare DataLoader"
      ],
      "metadata": {
        "id": "o9VEMNABSB_7"
      }
    },
    {
      "cell_type": "code",
      "source": [
        "from torch.utils.data import Dataset\n",
        "\n",
        "class SentimentDataset(Dataset):\n",
        "    def __init__(self, encodings, labels):\n",
        "        self.encodings = encodings\n",
        "        self.labels = labels\n",
        "\n",
        "    def __len__(self):\n",
        "        return len(self.labels)\n",
        "\n",
        "    def __getitem__(self, idx):\n",
        "        item = {key: torch.tensor(val[idx]) for key, val in self.encodings.items()}\n",
        "        item['labels'] = torch.tensor(self.labels[idx])\n",
        "        return item"
      ],
      "metadata": {
        "id": "AWhZHTQnQ_Fh"
      },
      "execution_count": null,
      "outputs": []
    },
    {
      "cell_type": "code",
      "source": [
        "train_dataset = SentimentDataset(train_encodings, train_labels.to_list())\n",
        "val_dataset = SentimentDataset(val_encodings, val_labels.to_list())\n",
        "test_dataset = SentimentDataset(test_encodings, test_labels.to_list())\n",
        "\n",
        "train_loader = DataLoader(train_dataset, batch_size=16, shuffle=True)\n",
        "val_loader = DataLoader(val_dataset, batch_size=16)\n",
        "test_loader = DataLoader(test_dataset, batch_size=16)"
      ],
      "metadata": {
        "id": "-bH59qGwRAab"
      },
      "execution_count": null,
      "outputs": []
    },
    {
      "cell_type": "markdown",
      "source": [
        "Fine-Tuning DeBERTa"
      ],
      "metadata": {
        "id": "P0p_hcR1R86M"
      }
    },
    {
      "cell_type": "code",
      "source": [
        "model = DistilBertForSequenceClassification.from_pretrained(\"distilbert-base-uncased\", num_labels=4)\n",
        "device = torch.device(\"cuda\") if torch.cuda.is_available() else torch.device(\"cpu\")\n",
        "model.to(device)\n"
      ],
      "metadata": {
        "colab": {
          "base_uri": "https://localhost:8080/"
        },
        "id": "xduYj5DfQ_ZF",
        "outputId": "70848d49-12f5-4999-80b4-be57047d49b5"
      },
      "execution_count": null,
      "outputs": [
        {
          "output_type": "stream",
          "name": "stderr",
          "text": [
            "Some weights of DistilBertForSequenceClassification were not initialized from the model checkpoint at distilbert-base-uncased and are newly initialized: ['classifier.bias', 'classifier.weight', 'pre_classifier.bias', 'pre_classifier.weight']\n",
            "You should probably TRAIN this model on a down-stream task to be able to use it for predictions and inference.\n"
          ]
        },
        {
          "output_type": "execute_result",
          "data": {
            "text/plain": [
              "DistilBertForSequenceClassification(\n",
              "  (distilbert): DistilBertModel(\n",
              "    (embeddings): Embeddings(\n",
              "      (word_embeddings): Embedding(30522, 768, padding_idx=0)\n",
              "      (position_embeddings): Embedding(512, 768)\n",
              "      (LayerNorm): LayerNorm((768,), eps=1e-12, elementwise_affine=True)\n",
              "      (dropout): Dropout(p=0.1, inplace=False)\n",
              "    )\n",
              "    (transformer): Transformer(\n",
              "      (layer): ModuleList(\n",
              "        (0-5): 6 x TransformerBlock(\n",
              "          (attention): DistilBertSdpaAttention(\n",
              "            (dropout): Dropout(p=0.1, inplace=False)\n",
              "            (q_lin): Linear(in_features=768, out_features=768, bias=True)\n",
              "            (k_lin): Linear(in_features=768, out_features=768, bias=True)\n",
              "            (v_lin): Linear(in_features=768, out_features=768, bias=True)\n",
              "            (out_lin): Linear(in_features=768, out_features=768, bias=True)\n",
              "          )\n",
              "          (sa_layer_norm): LayerNorm((768,), eps=1e-12, elementwise_affine=True)\n",
              "          (ffn): FFN(\n",
              "            (dropout): Dropout(p=0.1, inplace=False)\n",
              "            (lin1): Linear(in_features=768, out_features=3072, bias=True)\n",
              "            (lin2): Linear(in_features=3072, out_features=768, bias=True)\n",
              "            (activation): GELUActivation()\n",
              "          )\n",
              "          (output_layer_norm): LayerNorm((768,), eps=1e-12, elementwise_affine=True)\n",
              "        )\n",
              "      )\n",
              "    )\n",
              "  )\n",
              "  (pre_classifier): Linear(in_features=768, out_features=768, bias=True)\n",
              "  (classifier): Linear(in_features=768, out_features=4, bias=True)\n",
              "  (dropout): Dropout(p=0.2, inplace=False)\n",
              ")"
            ]
          },
          "metadata": {},
          "execution_count": 24
        }
      ]
    },
    {
      "cell_type": "code",
      "source": [
        "optimizer = AdamW(model.parameters(), lr=2e-5, eps=1e-8)\n",
        "num_training_steps = len(train_loader) * 10  # 10 epochs\n",
        "lr_scheduler = get_scheduler(\"linear\", optimizer=optimizer, num_warmup_steps=0, num_training_steps=num_training_steps)"
      ],
      "metadata": {
        "colab": {
          "base_uri": "https://localhost:8080/"
        },
        "id": "WfSPV-EMRIGT",
        "outputId": "6579b043-f6b7-4623-a8dd-77c31a2eee05"
      },
      "execution_count": null,
      "outputs": [
        {
          "output_type": "stream",
          "name": "stderr",
          "text": [
            "/usr/local/lib/python3.10/dist-packages/transformers/optimization.py:591: FutureWarning: This implementation of AdamW is deprecated and will be removed in a future version. Use the PyTorch implementation torch.optim.AdamW instead, or set `no_deprecation_warning=True` to disable this warning\n",
            "  warnings.warn(\n"
          ]
        }
      ]
    },
    {
      "cell_type": "code",
      "source": [
        "early_stop_counter = 0\n",
        "best_val_loss = float('inf')\n",
        "\n",
        "for epoch in range(10):  # Number of epochs\n",
        "    model.train()\n",
        "    total_loss = 0\n",
        "    for batch in train_loader:\n",
        "        batch = {k: v.to(device) for k, v in batch.items()}\n",
        "        outputs = model(**batch)\n",
        "        loss = outputs.loss\n",
        "        total_loss += loss.item()\n",
        "        loss.backward()\n",
        "        optimizer.step()\n",
        "        lr_scheduler.step()\n",
        "        optimizer.zero_grad()\n",
        "\n",
        "    avg_train_loss = total_loss / len(train_loader)\n",
        "\n",
        "    # Validation\n",
        "    model.eval()\n",
        "    val_loss = 0\n",
        "    all_predictions = []\n",
        "    all_labels = []\n",
        "    with torch.no_grad():\n",
        "        for batch in val_loader:\n",
        "            batch = {k: v.to(device) for k, v in batch.items()}\n",
        "            outputs = model(**batch)\n",
        "            val_loss += outputs.loss.item()\n",
        "            logits = outputs.logits\n",
        "            predictions = torch.argmax(logits, dim=-1)\n",
        "            all_predictions.extend(predictions.cpu().numpy())\n",
        "            all_labels.extend(batch[\"labels\"].cpu().numpy())\n",
        "\n",
        "    avg_val_loss = val_loss / len(val_loader)\n",
        "    val_accuracy = accuracy_score(all_labels, all_predictions)\n",
        "\n",
        "    print(f\"Epoch {epoch + 1}:\")\n",
        "    print(f\"  Training Loss: {avg_train_loss:.4f}\")\n",
        "    print(f\"  Validation Loss: {avg_val_loss:.4f}\")\n",
        "    print(f\"  Validation Accuracy: {val_accuracy:.4f}\")\n",
        "\n",
        "    # Early stopping logic (no saving)\n"
      ],
      "metadata": {
        "id": "_jzOx43TRK1M",
        "colab": {
          "base_uri": "https://localhost:8080/"
        },
        "outputId": "b7382260-bbdc-462b-b1cf-78b97f2d04a7"
      },
      "execution_count": null,
      "outputs": [
        {
          "output_type": "stream",
          "name": "stdout",
          "text": [
            "Epoch 1:\n",
            "  Training Loss: 0.9855\n",
            "  Validation Loss: 0.8917\n",
            "  Validation Accuracy: 0.5583\n",
            "Epoch 2:\n",
            "  Training Loss: 0.7031\n",
            "  Validation Loss: 0.7567\n",
            "  Validation Accuracy: 0.6890\n",
            "Epoch 3:\n",
            "  Training Loss: 0.4902\n",
            "  Validation Loss: 0.6840\n",
            "  Validation Accuracy: 0.7266\n",
            "Epoch 4:\n",
            "  Training Loss: 0.3874\n",
            "  Validation Loss: 0.6939\n",
            "  Validation Accuracy: 0.7033\n",
            "Epoch 5:\n",
            "  Training Loss: 0.2951\n",
            "  Validation Loss: 0.7839\n",
            "  Validation Accuracy: 0.7261\n",
            "Epoch 6:\n",
            "  Training Loss: 0.1931\n",
            "  Validation Loss: 0.8539\n",
            "  Validation Accuracy: 0.7142\n",
            "Epoch 7:\n",
            "  Training Loss: 0.1052\n",
            "  Validation Loss: 1.0533\n",
            "  Validation Accuracy: 0.7190\n",
            "Epoch 8:\n",
            "  Training Loss: 0.0596\n",
            "  Validation Loss: 1.1337\n",
            "  Validation Accuracy: 0.7109\n",
            "Epoch 9:\n",
            "  Training Loss: 0.0344\n",
            "  Validation Loss: 1.2455\n",
            "  Validation Accuracy: 0.7061\n",
            "Epoch 10:\n",
            "  Training Loss: 0.0272\n",
            "  Validation Loss: 1.2622\n",
            "  Validation Accuracy: 0.7047\n"
          ]
        }
      ]
    },
    {
      "cell_type": "markdown",
      "source": [
        "Evaluation"
      ],
      "metadata": {
        "id": "rVKau7iSSNZf"
      }
    },
    {
      "cell_type": "code",
      "source": [
        "model.eval()\n",
        "all_test_predictions = []\n",
        "all_test_labels = []\n",
        "\n",
        "with torch.no_grad():\n",
        "    for batch in test_loader:\n",
        "        batch = {k: v.to(device) for k, v in batch.items()}\n",
        "        outputs = model(**batch)\n",
        "        logits = outputs.logits\n",
        "        predictions = torch.argmax(logits, dim=-1)\n",
        "        all_test_predictions.extend(predictions.cpu().numpy())\n",
        "        all_test_labels.extend(batch[\"labels\"].cpu().numpy())\n",
        "\n",
        "test_accuracy = accuracy_score(all_test_labels, all_test_predictions)\n",
        "test_classification_report = classification_report(all_test_labels, all_test_predictions, target_names=list(sentiment_mapping.keys()))\n",
        "\n",
        "print(f\"Test Accuracy: {test_accuracy:.4f}\")\n",
        "print(\"Test Classification Report:\")\n",
        "print(test_classification_report)"
      ],
      "metadata": {
        "id": "5Z5mET6wSPab",
        "colab": {
          "base_uri": "https://localhost:8080/"
        },
        "outputId": "b946a7a5-fa76-40e1-fbf9-e88d6fe12c63"
      },
      "execution_count": null,
      "outputs": [
        {
          "output_type": "stream",
          "name": "stdout",
          "text": [
            "Test Accuracy: 0.7152\n",
            "Test Classification Report:\n",
            "                                  precision    recall  f1-score   support\n",
            "\n",
            "  satisfied considerable comment       0.41      0.39      0.40       437\n",
            "       satisfied neutral comment       0.68      0.65      0.67       793\n",
            "unsatisfied considerable comment       0.90      0.93      0.91       437\n",
            "     unsatisfied neutral comment       0.86      0.94      0.90       436\n",
            "\n",
            "                        accuracy                           0.72      2103\n",
            "                       macro avg       0.71      0.73      0.72      2103\n",
            "                    weighted avg       0.71      0.72      0.71      2103\n",
            "\n"
          ]
        }
      ]
    },
    {
      "cell_type": "code",
      "source": [],
      "metadata": {
        "id": "Wu_RFmYmWfV-"
      },
      "execution_count": null,
      "outputs": []
    }
  ]
}